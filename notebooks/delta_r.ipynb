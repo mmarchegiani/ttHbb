{
 "cells": [
  {
   "cell_type": "code",
   "execution_count": 1,
   "id": "969bdd2b",
   "metadata": {},
   "outputs": [],
   "source": [
    "from coffea.nanoevents import NanoEventsFactory, NanoAODSchema\n",
    "from coffea import hist, processor\n",
    "import numpy as np\n",
    "import awkward as ak\n",
    "import matplotlib.pyplot as plt"
   ]
  },
  {
   "cell_type": "code",
   "execution_count": 2,
   "id": "9e4426cc",
   "metadata": {},
   "outputs": [],
   "source": [
    "filename = \"/pnfs/psi.ch/cms/trivcat/store/user/mmarcheg/RunIIFall17NanoAODv7/store/mc/RunIIFall17NanoAODv7/ttHTobb_ttTo2L2Nu_M125_TuneCP5_13TeV-powheg-pythia8/NANOAODSIM/PU2017_12Apr2018_Nano02Apr2020_102X_mc2017_realistic_v8-v1/100000/100E437D-DFA2-4942-813E-10C5A42AE957.root\"\n",
    "events = NanoEventsFactory.from_root(filename, schemaclass=NanoAODSchema).events()"
   ]
  },
  {
   "cell_type": "code",
   "execution_count": 17,
   "id": "2a09af4b",
   "metadata": {},
   "outputs": [],
   "source": [
    "fatjets = events.FatJet\n",
    "electrons = events.Electron\n",
    "pfake = {'pt' : [-9999.9], 'eta' : [-9999.9], 'phi' : [-9999.9], 'mass' : [-9999.9]}\n",
    "fakeElectron = ak.zip(pfake, with_name=\"PtEtaPhiMCandidate\")"
   ]
  },
  {
   "cell_type": "code",
   "execution_count": 20,
   "id": "007f8839",
   "metadata": {},
   "outputs": [
    {
     "data": {
      "text/plain": [
       "<Array [[Electron, Electron, ... ] type='172800 * var * union[electron, 1 * PtEt...'>"
      ]
     },
     "execution_count": 20,
     "metadata": {},
     "output_type": "execute_result"
    }
   ],
   "source": [
    "#fatjets.delta_r(ak.pad_none(electrons, 5)[:,0])\n",
    "electronsPadded = ak.fill_none(ak.pad_none(electrons, 5), fakeElectron)\n",
    "electronsPadded"
   ]
  },
  {
   "cell_type": "code",
   "execution_count": 25,
   "id": "6c7d394d",
   "metadata": {},
   "outputs": [
    {
     "data": {
      "text/plain": [
       "<Array [[], [], [], ... True], [True, True]] type='172800 * var * bool'>"
      ]
     },
     "execution_count": 25,
     "metadata": {},
     "output_type": "execute_result"
    }
   ],
   "source": [
    "fatjets.delta_r(electronsPadded[:,4]) > 0.8"
   ]
  },
  {
   "cell_type": "code",
   "execution_count": null,
   "id": "b846c9fc",
   "metadata": {},
   "outputs": [],
   "source": []
  }
 ],
 "metadata": {
  "kernelspec": {
   "display_name": "Python 3 (ipykernel)",
   "language": "python",
   "name": "python3"
  },
  "language_info": {
   "codemirror_mode": {
    "name": "ipython",
    "version": 3
   },
   "file_extension": ".py",
   "mimetype": "text/x-python",
   "name": "python",
   "nbconvert_exporter": "python",
   "pygments_lexer": "ipython3",
   "version": "3.9.7"
  }
 },
 "nbformat": 4,
 "nbformat_minor": 5
}
